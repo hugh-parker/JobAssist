{
 "cells": [
  {
   "cell_type": "markdown",
   "metadata": {},
   "source": [
    "## Environment Initialization"
   ]
  },
  {
   "cell_type": "code",
   "execution_count": null,
   "metadata": {},
   "outputs": [],
   "source": [
    "import pandas as pd\n",
    "\n",
    "# Load the dataset\n",
    "df = pd.read_csv(\"./job_descriptions.csv\")"
   ]
  },
  {
   "cell_type": "markdown",
   "metadata": {},
   "source": [
    "## Data Preparation"
   ]
  },
  {
   "cell_type": "code",
   "execution_count": null,
   "metadata": {},
   "outputs": [],
   "source": [
    "import data_cleaning as dc\n",
    "\n",
    "from spacy.lang.en.stop_words import STOP_WORDS\n",
    "from sklearn.feature_extraction.text import TfidfVectorizer\n",
    "from sklearn.model_selection import train_test_split\n",
    "from nltk.stem import WordNetLemmatizer\n",
    "from sklearn.preprocessing import MultiLabelBinarizer\n",
    "\n",
    "# Clean the text data\n",
    "lemmatizer = WordNetLemmatizer()\n",
    "df['Job Description'] = df['Job Description'].apply(lambda x: dc.preprocess_document(x, lemmatizer))\n",
    "\n",
    "# Prepare the features\n",
    "tfidf_vectorizer =TfidfVectorizer(max_df=0.95, min_df=5, \n",
    "                                  max_features=1000, \n",
    "                                  ngram_range=(1, 3))\n",
    "X = tfidf_vectorizer.fit_transform(df['Job Description'])\n",
    "\n",
    "# Prepare the targets\n",
    "df['skills'] = df['skills'].apply(dc.preprocess_skills)\n",
    "mlb = MultiLabelBinarizer()\n",
    "y = mlb.fit_transform(df['skills'])\n",
    "\n",
    "# Split the data into training and testing sets\n",
    "X_train, X_test, y_train, y_test = train_test_split(X, y, test_size=0.2, random_state=42)"
   ]
  },
  {
   "cell_type": "markdown",
   "metadata": {},
   "source": [
    "## Model Tuning"
   ]
  },
  {
   "cell_type": "code",
   "execution_count": null,
   "metadata": {},
   "outputs": [],
   "source": [
    "from sklearn.neighbors import KNeighborsClassifier\n",
    "from sklearn.model_selection import GridSearchCV\n",
    "\n",
    "# Create a KNN classifier\n",
    "model = KNeighborsClassifier(algorithm='brute', metric='cosine')\n",
    "\n",
    "# Set up a grid search to find the best parameter for k\n",
    "param_grid = {'n_neighbors': [3, 5, 7, 9, 11]}\n",
    "folds = 5\n",
    "grid_search = GridSearchCV(model, param_grid=param_grid, cv=folds, verbose=2, n_jobs = -1, \n",
    "                           scoring='accuracy',\n",
    "                           error_score='raise')\n",
    "\n",
    "# Fit the model on the training data\n",
    "grid_search.fit(X_train, y_train)\n",
    "\n",
    "# Best number of neighbors\n",
    "best_k = grid_search.best_params_['n_neighbors']\n",
    "\n",
    "# Output the best model's score\n",
    "print(\"Best number of neighbors:\", best_k)\n",
    "print(\"Best cross-validation score: {:.2f}\".format(grid_search.best_score_))"
   ]
  },
  {
   "cell_type": "code",
   "execution_count": null,
   "metadata": {},
   "outputs": [],
   "source": [
    "# Create model with optimal number of clusters\n",
    "knn_model = KNeighborsClassifier(n_neighbors=best_k, algorithm='brute', metric='cosine')\n",
    "\n",
    "# Fit the model on the training data\n",
    "knn_model.fit(X_train, y_train)"
   ]
  },
  {
   "cell_type": "markdown",
   "metadata": {},
   "source": [
    "## Model Creation & Evaluation"
   ]
  },
  {
   "cell_type": "code",
   "execution_count": null,
   "metadata": {},
   "outputs": [],
   "source": [
    "from sklearn.metrics import classification_report\n",
    "\n",
    "# Predict the labels for the test set\n",
    "y_pred = knn_model.predict(X_test)\n",
    "\n",
    "# Generate the scoring metric report\n",
    "report = classification_report(y_test, y_pred)\n",
    "\n",
    "print(report)"
   ]
  },
  {
   "cell_type": "markdown",
   "metadata": {},
   "source": [
    "## Custom Examples"
   ]
  },
  {
   "cell_type": "code",
   "execution_count": null,
   "metadata": {},
   "outputs": [],
   "source": [
    "import model_util as mu\n",
    "\n",
    "# Create sample job descriptions\n",
    "job_descriptions = [\n",
    "    \"Seeking a financial accountant to join our auditing department.\",\n",
    "    \"Urgently hiring a educational specialist in early-childhood development and special education curriculums.\",\n",
    "    \"Looking for a skilled backend software developer with experience in networks and database design, and object-oriented programming in Java, Python, etc.\"\n",
    "]\n",
    "\n",
    "# Test the recommendation model\n",
    "for desc in job_descriptions:\n",
    "    print(\"Job description:\", desc)\n",
    "    skills = mu.model_get_skills(desc, tfidf_vectorizer, mlb, knn_model)\n",
    "    print(\"Recommended skills:\", skills)\n",
    "    print()"
   ]
  }
 ],
 "metadata": {
  "kernelspec": {
   "display_name": "myenv",
   "language": "python",
   "name": "python3"
  },
  "language_info": {
   "codemirror_mode": {
    "name": "ipython",
    "version": 3
   },
   "file_extension": ".py",
   "mimetype": "text/x-python",
   "name": "python",
   "nbconvert_exporter": "python",
   "pygments_lexer": "ipython3",
   "version": "3.12.2"
  }
 },
 "nbformat": 4,
 "nbformat_minor": 2
}
